{
 "cells": [
  {
   "cell_type": "markdown",
   "metadata": {},
   "source": [
    "## Searching for life\n",
    "\n",
    "If the chance of finding life on one planet is 1 in $n$, and you search for life on $n$ planets, what is the probability of finding life on at least one planet? Plot this as a function of $n$ for n=1,2,3,... What is this probability in the limit as $n \\rightarrow \\infty$?"
   ]
  },
  {
   "cell_type": "markdown",
   "metadata": {
    "collapsed": true
   },
   "source": [
    "## Common birthday\n",
    "\n",
    "In a room full of people, how many people do you have to ask before there is a 50% chance (or more) that any two or more of them share a common birthday? What are your asssumptions?\n",
    "\n",
    "How many people do you instead have to ask before there is a 50% chance that at least one of them shares your birthday?"
   ]
  },
  {
   "cell_type": "code",
   "execution_count": null,
   "metadata": {
    "collapsed": true
   },
   "outputs": [],
   "source": []
  }
 ],
 "metadata": {
  "anaconda-cloud": {},
  "kernelspec": {
   "display_name": "R",
   "language": "R",
   "name": "ir"
  },
  "language_info": {
   "codemirror_mode": "r",
   "file_extension": ".r",
   "mimetype": "text/x-r-source",
   "name": "R",
   "pygments_lexer": "r",
   "version": "3.3.2"
  }
 },
 "nbformat": 4,
 "nbformat_minor": 1
}
