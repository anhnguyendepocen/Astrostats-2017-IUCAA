{
 "cells": [
  {
   "cell_type": "markdown",
   "metadata": {},
   "source": [
    "Here is an R code which samples the posterior from the signal/background problem using the Metropolis algorithm. It first simulates a set of data, then samples the posterior, then produces plots of the posterior. Note: to get it to work, download it to the same directory containing metropolis.R."
   ]
  },
  {
   "cell_type": "code",
   "execution_count": 1,
   "metadata": {
    "collapsed": false
   },
   "outputs": [
    {
     "name": "stderr",
     "output_type": "stream",
     "text": [
      "Warning message in file(filename, \"r\", encoding = encoding):\n",
      "“cannot open file 'metropolis.R': No such file or directory”"
     ]
    },
    {
     "ename": "ERROR",
     "evalue": "Error in file(filename, \"r\", encoding = encoding): cannot open the connection\n",
     "output_type": "error",
     "traceback": [
      "Error in file(filename, \"r\", encoding = encoding): cannot open the connection\nTraceback:\n",
      "1. source(\"metropolis.R\")",
      "2. file(filename, \"r\", encoding = encoding)"
     ]
    }
   ],
   "source": [
    "##### CBJ Jan. 2017\n",
    "##### The signal/background estimation problem with posterior sampled by Metropolis\n",
    "\n",
    "source(\"../PBI_code/metropolis.R\")\n",
    "\n",
    "# Define function to return true signal at position x (generative model)\n",
    "signal <- function(x, a, b, x0, w, t) {\n",
    "  t*(a*exp(-(x-x0)^2/(2*w^2)) + b)\n",
    "}\n",
    "\n",
    "# Define function to return log (base 10) posterior over theta=(a,b).\n",
    "# Prior on a and b: P(a,b) = const if a>0 and b>0, = 0 otherwise.\n",
    "# Likelihood for one point is Poisson with mean d(x), so total \n",
    "# likelihood is their product. Unnormalized posterior is product of these.\n",
    "# d and x are equal length vectors (or scalars). The rest are scalars.\n",
    "logupost <- function(theta, d, x, x0, w, t) {\n",
    "  a <- theta[1]\n",
    "  b <- theta[2]\n",
    "  if(a<0 || b <0) {return(-Inf)} # the effect of the prior\n",
    "  logupost <- sum(dpois(d, lambda=signal(x, a, b, x0, w, t), log=TRUE))\n",
    "  return(c(0, logupost)/log(10))\n",
    "}\n",
    "\n",
    "# Set model parameters (true and fixed)\n",
    "x0    <- 0 # centre of peak\n",
    "w     <- 1 # sd of peak\n",
    "atrue <- 2 # amplitude\n",
    "btrue <- 1 # background\n",
    "t     <- 5 # scale factor (exposure time -> sets SNR)\n",
    "\n",
    "# Simulate some data (by drawing from the likelihood)\n",
    "set.seed(205)\n",
    "xdat  <- seq(from=-7*w, to=7*w, by=0.5*w)\n",
    "strue <- signal(xdat, atrue, btrue, x0, w, t)\n",
    "ddat  <- rpois(length(strue), strue)\n",
    "\n",
    "# Sample posterior with Metropolis; parameters = (a,b)\n",
    "\n",
    "sampleCov <- diag(c(0.1, 0.1)^2)\n",
    "# Set starting point\n",
    "thetaInit <- c(1, 1)\n",
    "# Run the MCMC to get samples from the posterior PDF\n",
    "set.seed(100)\n",
    "allSamp <- metrop(func=logupost, thetaInit=thetaInit, Nburnin=0, \n",
    "                  Nsamp=1e5, sampleCov=sampleCov, verbose=1e3, demo=FALSE,\n",
    "                  d=ddat, x=xdat, x0=x0, w=w, t=t)\n",
    "thinSel  <- seq(from=1, to=nrow(allSamp), by=25) # thin\n",
    "postSamp <- allSamp[thinSel,]\n",
    "\n",
    "# Plot MCMC chains and use density estimation to plot 1D posterior PDFs.\n",
    "# We don't need to do any explicit marginalization to get the 1D PDFs.\n",
    "pdf(\"signal_background_mcmc.pdf\", width=8, height=7)\n",
    "par(mfrow=c(3,2), mar=c(3.0,3.5,0.5,0.5), oma=0.5*c(1,1,1,1), \n",
    "    mgp=c(1.8,0.6,0), cex=0.9)\n",
    "parname <- c(\"a\", \"b\")\n",
    "for(j in 3:4) { # columns of postSamp\n",
    "  plot(1:nrow(postSamp), postSamp[,j], type=\"l\",\n",
    "       xlab=\"iteration\", ylab=parname[j-2])\n",
    "  postDen <- density(postSamp[,j], n=2^10)\n",
    "  plot(postDen$x, postDen$y, type=\"l\", lwd=1.5, yaxs=\"i\", \n",
    "       ylim=1.05*c(0,max(postDen$y)), xlab=parname[j-2], ylab=\"density\")\n",
    "}\n",
    "dev.off()\n",
    "\n",
    "# Plot 2D posterior by plotting samples\n",
    "par(mfrow=c(1,1), mgp=c(2.0,0.8,0), mar=c(3.0,3.0,0.5,0.5), \n",
    "    oma=0.1*c(1,1,1,1))\n",
    "plot(postSamp[,3], postSamp[,4], xlab=parname[1], ylab=parname[2], pch=\".\")\n",
    "\n",
    "# Given the samples drawn FROM the posterior PDF, it's easy to compute the\n",
    "# summary statistics. We don't need the value of the posterior density anymore.\n",
    "cat(mean(postSamp[,3]), mean(postSamp[,4]), sd(postSamp[,3]), sd(postSamp[,4]), \n",
    "    cor(postSamp[,3], postSamp[,4]), \"\\n\")\n"
   ]
  },
  {
   "cell_type": "code",
   "execution_count": null,
   "metadata": {
    "collapsed": true
   },
   "outputs": [],
   "source": []
  }
 ],
 "metadata": {
  "anaconda-cloud": {},
  "kernelspec": {
   "display_name": "R",
   "language": "R",
   "name": "ir"
  },
  "language_info": {
   "codemirror_mode": "r",
   "file_extension": ".r",
   "mimetype": "text/x-r-source",
   "name": "R",
   "pygments_lexer": "r",
   "version": "3.3.2"
  }
 },
 "nbformat": 4,
 "nbformat_minor": 1
}
